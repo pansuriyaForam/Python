{
 "cells": [
  {
   "cell_type": "markdown",
   "metadata": {},
   "source": [
    "# Emoji Mood Predictor\n",
    "Enter a Sentence, and it predicts an emoji based on the mood of your text.\n",
    "- Uses: Simple NLP, Sentiment Analysis."
   ]
  },
  {
   "cell_type": "code",
   "execution_count": 32,
   "metadata": {},
   "outputs": [
    {
     "name": "stdout",
     "output_type": "stream",
     "text": [
      "Defaulting to user installation because normal site-packages is not writeable\n",
      "Requirement already satisfied: textblob in /home/pansuriyaforambenrasikbhai/.local/lib/python3.10/site-packages (0.19.0)\n",
      "Requirement already satisfied: nltk>=3.9 in /home/pansuriyaforambenrasikbhai/.local/lib/python3.10/site-packages (from textblob) (3.9.1)\n",
      "Requirement already satisfied: click in /usr/lib/python3/dist-packages (from nltk>=3.9->textblob) (8.0.3)\n",
      "Requirement already satisfied: tqdm in /home/pansuriyaforambenrasikbhai/.local/lib/python3.10/site-packages (from nltk>=3.9->textblob) (4.67.1)\n",
      "Requirement already satisfied: joblib in /home/pansuriyaforambenrasikbhai/.local/lib/python3.10/site-packages (from nltk>=3.9->textblob) (1.4.2)\n",
      "Requirement already satisfied: regex>=2021.8.3 in /home/pansuriyaforambenrasikbhai/.local/lib/python3.10/site-packages (from nltk>=3.9->textblob) (2024.11.6)\n",
      "Note: you may need to restart the kernel to use updated packages.\n"
     ]
    }
   ],
   "source": [
    "# installing the library\n",
    "%pip install textblob"
   ]
  },
  {
   "cell_type": "markdown",
   "metadata": {},
   "source": [
    "### Importing the \"textblob\" library for sentiment analysis and \"random\" for selecting random quotes"
   ]
  },
  {
   "cell_type": "code",
   "execution_count": 33,
   "metadata": {},
   "outputs": [],
   "source": [
    "from textblob import TextBlob \n",
    "import random"
   ]
  },
  {
   "cell_type": "markdown",
   "metadata": {},
   "source": [
    "### Functions for feedback"
   ]
  },
  {
   "cell_type": "code",
   "execution_count": 34,
   "metadata": {},
   "outputs": [],
   "source": [
    "# Function for positive feedback\n",
    "def positive_feedback():\n",
    "    quotes = [\n",
    "        \"Keep up the great work! 🌟\",\n",
    "        \"You’re doing amazing! 💪\",\n",
    "        \"Stay positive and keep smiling! 😄\"\n",
    "    ]\n",
    "    return random.choice(quotes)\n",
    "\n",
    "# Function for negative feedback\n",
    "def negative_feedback():\n",
    "    quotes = [\n",
    "        \"Take a deep breath and relax. 😌\",\n",
    "        \"It'll get better, just hang in there! 💖\",\n",
    "        \"Let’s turn that frown upside down! 😊\"\n",
    "    ]\n",
    "    return random.choice(quotes)\n",
    "\n",
    "# Mood-based background color (for fun!)\n",
    "def get_background_color(mood):\n",
    "    colors = {\n",
    "        \"happy\": \"yellow\",\n",
    "        \"sad\": \"blue\",\n",
    "        \"angry\": \"red\",\n",
    "        \"neutral\": \"grey\"\n",
    "    }\n",
    "    return colors.get(mood, \"grey\")\n",
    "\n",
    "# Mapping Sentiments to Mood and Emojis\n",
    "mood_emojis = {\n",
    "    \"happy\": \"😃\",\n",
    "    \"sad\": \"😢\",\n",
    "    \"neutral\": \"😐\"\n",
    "}"
   ]
  },
  {
   "cell_type": "markdown",
   "metadata": {},
   "source": [
    "### Analyzing Sentiment\n",
    "- TextBlob(text) processes the sentence\n",
    "- .sentiment.polarity gives a score between -1 to 1:\n",
    "    - Positive(> 0.1) -> Happy Mood\n",
    "    - Negative(< -0.1) -> Sad Mood\n",
    "    - Neutral (-0.1 to 0.1) -> Normal/Confused Mood"
   ]
  },
  {
   "cell_type": "code",
   "execution_count": 35,
   "metadata": {},
   "outputs": [],
   "source": [
    "# Analyzing Sentiment\n",
    "def analyze_sentiment(text):\n",
    "    blob = TextBlob(text)\n",
    "    sentiment_score = blob.sentiment.polarity\n",
    "    return sentiment_score\n",
    "\n",
    "# Decide the mood\n",
    "def get_mood(sentiment_score):\n",
    "    if sentiment_score > 0.1:\n",
    "        return \"happy\"\n",
    "    elif sentiment_score < -0.1:\n",
    "        return \"sad\"\n",
    "    else:\n",
    "        return \"neutral\""
   ]
  },
  {
   "cell_type": "markdown",
   "metadata": {},
   "source": [
    "### User Input and Sentiment Analysis"
   ]
  },
  {
   "cell_type": "code",
   "execution_count": 36,
   "metadata": {},
   "outputs": [],
   "source": [
    "# Taking multiple user inputs\n",
    "def get_user_input():\n",
    "    print(\"Enter 'done' when you're finished.\")\n",
    "    text_input = []\n",
    "    while True:\n",
    "        text = input(\"Enter a sentence: \")\n",
    "        if text.lower() == \"done\":\n",
    "            break\n",
    "        text_input.append(text)\n",
    "    return text_input"
   ]
  },
  {
   "cell_type": "markdown",
   "metadata": {},
   "source": [
    "### Main Program to Run and Display Results"
   ]
  },
  {
   "cell_type": "code",
   "execution_count": 37,
   "metadata": {},
   "outputs": [
    {
     "name": "stdout",
     "output_type": "stream",
     "text": [
      "Enter 'done' when you're finished.\n",
      "\n",
      "Overall Mood: 😢 - Sad\n",
      "It'll get better, just hang in there! 💖\n",
      "Background Color for Mood: blue\n"
     ]
    }
   ],
   "source": [
    "def main():\n",
    "    user_texts = get_user_input()\n",
    "\n",
    "    all_sentiment_scores = []\n",
    "    for sentence in user_texts:\n",
    "        sentiment_score = analyze_sentiment(sentence)\n",
    "        all_sentiment_scores.append(sentiment_score)\n",
    "\n",
    "    average_sentiment = sum(all_sentiment_scores) / len(all_sentiment_scores)\n",
    "    mood = get_mood(average_sentiment)\n",
    "\n",
    "    print(f\"\\nOverall Mood: {mood_emojis[mood]} - {mood.capitalize()}\")\n",
    "\n",
    "    if mood == \"happy\":\n",
    "        print(positive_feedback())\n",
    "    elif mood == \"sad\":\n",
    "        print(negative_feedback())\n",
    "\n",
    "    # Optional: Displaying background color (you can implement this visually in GUI)\n",
    "    print(f\"Background Color for Mood: {get_background_color(mood)}\")\n",
    "\n",
    "# Run the main function\n",
    "if __name__ == \"__main__\":\n",
    "    main()"
   ]
  }
 ],
 "metadata": {
  "kernelspec": {
   "display_name": "Python 3",
   "language": "python",
   "name": "python3"
  },
  "language_info": {
   "codemirror_mode": {
    "name": "ipython",
    "version": 3
   },
   "file_extension": ".py",
   "mimetype": "text/x-python",
   "name": "python",
   "nbconvert_exporter": "python",
   "pygments_lexer": "ipython3",
   "version": "3.10.12"
  }
 },
 "nbformat": 4,
 "nbformat_minor": 2
}
